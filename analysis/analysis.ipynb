{
 "cells": [
  {
   "cell_type": "code",
   "execution_count": null,
   "id": "4e6a66ce",
   "metadata": {},
   "outputs": [],
   "source": [
    "%matplotlib inline\n",
    "import numpy as np\n",
    "from matplotlib import pyplot as plt\n",
    "from scipy.optimize import curve_fit\n",
    "from scipy.ndimage import gaussian_filter"
   ]
  },
  {
   "cell_type": "code",
   "execution_count": null,
   "id": "1304a514",
   "metadata": {},
   "outputs": [],
   "source": [
    "def load_xvg_file(filename):\n",
    "    x, y = [], []\n",
    "    with open(filename) as f:\n",
    "        for line in f:\n",
    "            cols = line.split()\n",
    "            if len(cols)==2:\n",
    "                x.append(cols[0])\n",
    "                y.append(cols[1])\n",
    "    return np.array(x[1:],dtype=float),np.array(y[1:],dtype=float) #skip the first value (header)\n"
   ]
  },
  {
   "cell_type": "code",
   "execution_count": null,
   "id": "c3fd3874",
   "metadata": {},
   "outputs": [],
   "source": [
    "def gaussian(x,a,b,c):\n",
    "    return np.abs(a)*np.exp(-4*np.log(2)*(x-b)**2./(c**2))\n",
    "\n",
    "def fit(function,x,y,p0=None,sigma=None,bounds=None):\n",
    "    '''\n",
    "    fits a function and return the fit resulting parameters and curve\n",
    "    '''\n",
    "    popt,pcov = curve_fit(function,x,y,p0=p0,sigma=sigma)\n",
    "    #x = np.arange(min(x),max(x),x[1]-x[0])\n",
    "    curve = function(x,*popt)\n",
    "    perr = np.sqrt(np.diag(pcov))\n",
    "    return popt,x,curve,perr"
   ]
  },
  {
   "cell_type": "code",
   "execution_count": null,
   "id": "51b22aa6",
   "metadata": {},
   "outputs": [],
   "source": [
    "plt.figure(figsize=[5,4])\n",
    "\n",
    "filename = \"em_potential.xvg\"\n",
    "x,y = load_xvg_file(filename)\n",
    "plt.plot(x[50:],y[50:],lw=1.5)\n",
    "plt.ylabel('Potential Energy (KJ/mol)')\n",
    "plt.xlabel('timesteps')\n",
    "\n",
    "plt.title('Energy minimization')"
   ]
  },
  {
   "cell_type": "code",
   "execution_count": null,
   "id": "c729afbf",
   "metadata": {},
   "outputs": [],
   "source": [
    "plt.figure(figsize=[5,4])\n",
    "\n",
    "filename = \"npt_volume.xvg\"\n",
    "x,y = load_xvg_file(filename)\n",
    "plt.plot(x[:],y[:],lw=1.5)\n",
    "plt.ylabel('Volume (nm^3)')\n",
    "plt.xlabel('time (ps)')"
   ]
  },
  {
   "cell_type": "code",
   "execution_count": null,
   "id": "a9bbae99",
   "metadata": {},
   "outputs": [],
   "source": [
    "# number of proteins\n",
    "n = 10\n",
    "\n",
    "# volume\n",
    "# 1 ml = 1.0E+21 nm^-3\n",
    "v = y[-1]*1e-21\n",
    "\n",
    "# mass\n",
    "# 1 lysozyme 14 kDa\n",
    "# 1 kDa = 1.66054e-18 mgr\n",
    "m = 14*1.66054e-18\n",
    "\n",
    "c = 10*m/v\n",
    "print(c,\"mg/ml\")"
   ]
  },
  {
   "cell_type": "code",
   "execution_count": null,
   "id": "0a6f12c0",
   "metadata": {},
   "outputs": [],
   "source": [
    "plt.figure(figsize=[5,4])\n",
    "\n",
    "filename = \"md_density.xvg\"\n",
    "x,y = load_xvg_file(filename)\n",
    "plt.plot(x,y,lw=1.5)\n",
    "plt.plot(x,gaussian_filter(y,sigma=20),lw=1.5)\n",
    "plt.ylabel('Density (kg/m^3)')\n",
    "plt.xlabel('time (ps)')"
   ]
  },
  {
   "cell_type": "code",
   "execution_count": null,
   "id": "6bf8d709",
   "metadata": {},
   "outputs": [],
   "source": [
    "plt.figure(figsize=[5,4])\n",
    "\n",
    "filename = \"md_energy.xvg\"\n",
    "x,y = load_xvg_file(filename)\n",
    "plt.plot(x,y,lw=1.5)\n",
    "plt.plot(x,gaussian_filter(y,sigma=20),lw=1.5)\n",
    "plt.ylabel('Energy (kJ/mol)')\n",
    "plt.xlabel('time (ps)')"
   ]
  },
  {
   "cell_type": "code",
   "execution_count": null,
   "id": "6b275259",
   "metadata": {
    "scrolled": false
   },
   "outputs": [],
   "source": [
    "plt.figure(figsize=[5,4])\n",
    "\n",
    "#filename = \"saxs.xvg\"\n",
    "#x,y = load_xvg_file(filename)\n",
    "#plt.plot(x,y/max(y),lw=1.5)\n",
    "\n",
    "filename = \"saxs2.xvg\"\n",
    "x,y = load_xvg_file(filename)\n",
    "plt.plot(x[1:],y[1:]/max(y),'o-',lw=1.5)\n",
    "plt.yscale(\"log\")\n",
    "plt.xscale(\"log\")\n",
    "plt.ylabel('I(q)')\n",
    "plt.xlabel('q (nm^-1)')\n",
    "plt.grid()\n",
    "plt.xlim([0.5,70])\n",
    "plt.title('23% glycerol')\n",
    "plt.savefig(\"/Users/fivos/Desktop/fig.png\")"
   ]
  },
  {
   "cell_type": "code",
   "execution_count": null,
   "id": "c2575edb",
   "metadata": {},
   "outputs": [],
   "source": [
    "plt.figure(figsize=[5,4])\n",
    "\n",
    "#filename = \"saxs.xvg\"\n",
    "#x,y = load_xvg_file(filename)\n",
    "#plt.plot(x,y/max(y),lw=1.5)\n",
    "\n",
    "filename = \"rdf.xvg\"\n",
    "x,y = load_xvg_file(filename)\n",
    "#plt.plot(x,y,lw=1.5)\n",
    "\n",
    "filename = \"rdf_com.xvg\"\n",
    "x,y = load_xvg_file(filename)\n",
    "plt.plot(x,y,'o',lw=1.5)\n",
    "popt,xc,curve,perr = fit(gaussian,x,y)\n",
    "plt.plot(xc,curve,lw=1.5)\n",
    "\n",
    "plt.ylabel('g(r)')\n",
    "plt.xlabel('r (nm)')\n",
    "plt.grid()\n",
    "#plt.title('23% glycerol')\n",
    "#plt.yscale(\"log\")\n",
    "#plt.savefig(\"/Users/fivos/Desktop/fig.png\")\n",
    "plt.show()"
   ]
  },
  {
   "cell_type": "code",
   "execution_count": null,
   "id": "267d9caf",
   "metadata": {},
   "outputs": [],
   "source": [
    "plt.figure(figsize=[5,4])\n",
    "\n",
    "y_fft = np.fft.fftshift(np.abs(np.fft.fft(y))) / np.sqrt(len(y))\n",
    "plt.plot(2*np.pi/xc, y_fft)\n",
    "\n",
    "y_fft_curve = np.fft.fftshift(np.abs(np.fft.fft(curve))) / np.sqrt(len(curve))\n",
    "#plt.plot(2*np.pi/xc, y_fft_curve)\n",
    "plt.xlim(0.5,4)\n",
    "\n",
    "plt.show()"
   ]
  },
  {
   "cell_type": "code",
   "execution_count": null,
   "id": "4363b9e5",
   "metadata": {},
   "outputs": [],
   "source": [
    "\n",
    "plt.figure(figsize=[5,4])\n",
    "\n",
    "#filename = \"saxs.xvg\"\n",
    "#x,y = load_xvg_file(filename)\n",
    "#plt.plot(x,y/max(y),lw=1.5)\n",
    "\n",
    "filename = \"dist_com.xvg\"\n",
    "data = np.array(load_xvg_file(filename))\n",
    "print(data[1])\n",
    "plt.plot(x/1e3,y,lw=1.5)\n",
    "plt.plot(x/1e3,gaussian_filter(y,sigma=20),lw=1.5)\n",
    "print(y)\n",
    "plt.ylabel('average COM distance (nm)')\n",
    "plt.xlabel('t (ns)')\n",
    "plt.grid()\n",
    "#plt.title('23% glycerol')\n",
    "#plt.yscale(\"log\")\n",
    "#plt.savefig(\"/Users/fivos/Desktop/fig.png\")\n",
    "plt.show()\n"
   ]
  },
  {
   "cell_type": "code",
   "execution_count": null,
   "id": "04fd1545",
   "metadata": {},
   "outputs": [],
   "source": []
  }
 ],
 "metadata": {
  "kernelspec": {
   "display_name": "Python 3.10.4 64-bit",
   "language": "python",
   "name": "python3"
  },
  "language_info": {
   "codemirror_mode": {
    "name": "ipython",
    "version": 3
   },
   "file_extension": ".py",
   "mimetype": "text/x-python",
   "name": "python",
   "nbconvert_exporter": "python",
   "pygments_lexer": "ipython3",
   "version": "3.10.4"
  },
  "vscode": {
   "interpreter": {
    "hash": "3ad933181bd8a04b432d3370b9dc3b0662ad032c4dfaa4e4f1596c548f763858"
   }
  }
 },
 "nbformat": 4,
 "nbformat_minor": 5
}
