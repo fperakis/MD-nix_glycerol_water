{
 "cells": [
  {
   "cell_type": "code",
   "execution_count": 1,
   "id": "4e6a66ce",
   "metadata": {},
   "outputs": [],
   "source": [
    "%matplotlib inline\n",
    "import numpy as np\n",
    "from matplotlib import pyplot as plt\n",
    "from scipy.optimize import curve_fit\n",
    "from scipy.ndimage import gaussian_filter"
   ]
  },
  {
   "cell_type": "code",
   "execution_count": 2,
   "id": "1304a514",
   "metadata": {},
   "outputs": [],
   "source": [
    "def load_xvg_file(filename):\n",
    "    x, y = [], []\n",
    "    with open(filename) as f:\n",
    "        for line in f:\n",
    "            cols = line.split()\n",
    "            if len(cols)==2:\n",
    "                x.append(cols[0])\n",
    "                y.append(cols[1])\n",
    "    return np.array(x[1:],dtype=float),np.array(y[1:],dtype=float) #skip the first value (header)\n"
   ]
  },
  {
   "cell_type": "code",
   "execution_count": 3,
   "id": "c3fd3874",
   "metadata": {},
   "outputs": [],
   "source": [
    "def gaussian(x,a,b,c):\n",
    "    return np.abs(a)*np.exp(-4*np.log(2)*(x-b)**2./(c**2))\n",
    "\n",
    "def fit(function,x,y,p0=None,sigma=None,bounds=None):\n",
    "    '''\n",
    "    fits a function and return the fit resulting parameters and curve\n",
    "    '''\n",
    "    popt,pcov = curve_fit(function,x,y,p0=p0,sigma=sigma)\n",
    "    #x = np.arange(min(x),max(x),x[1]-x[0])\n",
    "    curve = function(x,*popt)\n",
    "    perr = np.sqrt(np.diag(pcov))\n",
    "    return popt,x,curve,perr"
   ]
  },
  {
   "cell_type": "code",
   "execution_count": 6,
   "id": "51b22aa6",
   "metadata": {},
   "outputs": [
    {
     "data": {
      "text/plain": [
       "Text(0.5, 1.0, 'Energy minimization')"
      ]
     },
     "execution_count": 6,
     "metadata": {},
     "output_type": "execute_result"
    },
    {
     "data": {
      "image/png": "[encoded data removed]",
      "text/plain": [
       "<Figure size 360x288 with 1 Axes>"
      ]
     },
     "metadata": {
      "needs_background": "light"
     },
     "output_type": "display_data"
    }
   ],
   "source": [
    "plt.figure(figsize=[5,4])\n",
    "\n",
    "filename = \"../mdf/em_potential.xvg\"\n",
    "x,y = load_xvg_file(filename)\n",
    "plt.plot(x[50:],y[50:],lw=1.5)\n",
    "plt.ylabel('Potential Energy (KJ/mol)')\n",
    "plt.xlabel('timesteps')\n",
    "\n",
    "plt.title('Energy minimization')"
   ]
  },
  {
   "cell_type": "code",
   "execution_count": 5,
   "id": "c729afbf",
   "metadata": {},
   "outputs": [
    {
     "ename": "FileNotFoundError",
     "evalue": "[Errno 2] No such file or directory: 'npt_volume.xvg'",
     "output_type": "error",
     "traceback": [
      "\u001b[0;31m---------------------------------------------------------------------------\u001b[0m",
      "\u001b[0;31mFileNotFoundError\u001b[0m                         Traceback (most recent call last)",
      "\u001b[0;32m<ipython-input-5-9595821a614e>\u001b[0m in \u001b[0;36m<module>\u001b[0;34m\u001b[0m\n\u001b[1;32m      2\u001b[0m \u001b[0;34m\u001b[0m\u001b[0m\n\u001b[1;32m      3\u001b[0m \u001b[0mfilename\u001b[0m \u001b[0;34m=\u001b[0m \u001b[0;34m\"npt_volume.xvg\"\u001b[0m\u001b[0;34m\u001b[0m\u001b[0;34m\u001b[0m\u001b[0m\n\u001b[0;32m----> 4\u001b[0;31m \u001b[0mx\u001b[0m\u001b[0;34m,\u001b[0m\u001b[0my\u001b[0m \u001b[0;34m=\u001b[0m \u001b[0mload_xvg_file\u001b[0m\u001b[0;34m(\u001b[0m\u001b[0mfilename\u001b[0m\u001b[0;34m)\u001b[0m\u001b[0;34m\u001b[0m\u001b[0;34m\u001b[0m\u001b[0m\n\u001b[0m\u001b[1;32m      5\u001b[0m \u001b[0mplt\u001b[0m\u001b[0;34m.\u001b[0m\u001b[0mplot\u001b[0m\u001b[0;34m(\u001b[0m\u001b[0mx\u001b[0m\u001b[0;34m[\u001b[0m\u001b[0;34m:\u001b[0m\u001b[0;34m]\u001b[0m\u001b[0;34m,\u001b[0m\u001b[0my\u001b[0m\u001b[0;34m[\u001b[0m\u001b[0;34m:\u001b[0m\u001b[0;34m]\u001b[0m\u001b[0;34m,\u001b[0m\u001b[0mlw\u001b[0m\u001b[0;34m=\u001b[0m\u001b[0;36m1.5\u001b[0m\u001b[0;34m)\u001b[0m\u001b[0;34m\u001b[0m\u001b[0;34m\u001b[0m\u001b[0m\n\u001b[1;32m      6\u001b[0m \u001b[0mplt\u001b[0m\u001b[0;34m.\u001b[0m\u001b[0mylabel\u001b[0m\u001b[0;34m(\u001b[0m\u001b[0;34m'Volume (nm^3)'\u001b[0m\u001b[0;34m)\u001b[0m\u001b[0;34m\u001b[0m\u001b[0;34m\u001b[0m\u001b[0m\n",
      "\u001b[0;32m<ipython-input-2-cb4125cf1e41>\u001b[0m in \u001b[0;36mload_xvg_file\u001b[0;34m(filename)\u001b[0m\n\u001b[1;32m      1\u001b[0m \u001b[0;32mdef\u001b[0m \u001b[0mload_xvg_file\u001b[0m\u001b[0;34m(\u001b[0m\u001b[0mfilename\u001b[0m\u001b[0;34m)\u001b[0m\u001b[0;34m:\u001b[0m\u001b[0;34m\u001b[0m\u001b[0;34m\u001b[0m\u001b[0m\n\u001b[1;32m      2\u001b[0m     \u001b[0mx\u001b[0m\u001b[0;34m,\u001b[0m \u001b[0my\u001b[0m \u001b[0;34m=\u001b[0m \u001b[0;34m[\u001b[0m\u001b[0;34m]\u001b[0m\u001b[0;34m,\u001b[0m \u001b[0;34m[\u001b[0m\u001b[0;34m]\u001b[0m\u001b[0;34m\u001b[0m\u001b[0;34m\u001b[0m\u001b[0m\n\u001b[0;32m----> 3\u001b[0;31m     \u001b[0;32mwith\u001b[0m \u001b[0mopen\u001b[0m\u001b[0;34m(\u001b[0m\u001b[0mfilename\u001b[0m\u001b[0;34m)\u001b[0m \u001b[0;32mas\u001b[0m \u001b[0mf\u001b[0m\u001b[0;34m:\u001b[0m\u001b[0;34m\u001b[0m\u001b[0;34m\u001b[0m\u001b[0m\n\u001b[0m\u001b[1;32m      4\u001b[0m         \u001b[0;32mfor\u001b[0m \u001b[0mline\u001b[0m \u001b[0;32min\u001b[0m \u001b[0mf\u001b[0m\u001b[0;34m:\u001b[0m\u001b[0;34m\u001b[0m\u001b[0;34m\u001b[0m\u001b[0m\n\u001b[1;32m      5\u001b[0m             \u001b[0mcols\u001b[0m \u001b[0;34m=\u001b[0m \u001b[0mline\u001b[0m\u001b[0;34m.\u001b[0m\u001b[0msplit\u001b[0m\u001b[0;34m(\u001b[0m\u001b[0;34m)\u001b[0m\u001b[0;34m\u001b[0m\u001b[0;34m\u001b[0m\u001b[0m\n",
      "\u001b[0;31mFileNotFoundError\u001b[0m: [Errno 2] No such file or directory: 'npt_volume.xvg'"
     ]
    },
    {
     "data": {
      "text/plain": [
       "<Figure size 360x288 with 0 Axes>"
      ]
     },
     "metadata": {},
     "output_type": "display_data"
    }
   ],
   "source": [
    "plt.figure(figsize=[5,4])\n",
    "\n",
    "filename = \"npt_volume.xvg\"\n",
    "x,y = load_xvg_file(filename)\n",
    "plt.plot(x[:],y[:],lw=1.5)\n",
    "plt.ylabel('Volume (nm^3)')\n",
    "plt.xlabel('time (ps)')"
   ]
  },
  {
   "cell_type": "code",
   "execution_count": null,
   "id": "a9bbae99",
   "metadata": {},
   "outputs": [],
   "source": [
    "# number of proteins\n",
    "n = 10\n",
    "\n",
    "# volume\n",
    "# 1 ml = 1.0E+21 nm^-3\n",
    "v = y[-1]*1e-21\n",
    "\n",
    "# mass\n",
    "# 1 lysozyme 14 kDa\n",
    "# 1 kDa = 1.66054e-18 mgr\n",
    "m = 14*1.66054e-18\n",
    "\n",
    "c = 10*m/v\n",
    "print(c,\"mg/ml\")"
   ]
  },
  {
   "cell_type": "code",
   "execution_count": null,
   "id": "0a6f12c0",
   "metadata": {},
   "outputs": [],
   "source": [
    "plt.figure(figsize=[5,4])\n",
    "\n",
    "filename = \"md_density.xvg\"\n",
    "x,y = load_xvg_file(filename)\n",
    "plt.plot(x,y,lw=1.5)\n",
    "plt.plot(x,gaussian_filter(y,sigma=20),lw=1.5)\n",
    "plt.ylabel('Density (kg/m^3)')\n",
    "plt.xlabel('time (ps)')"
   ]
  },
  {
   "cell_type": "code",
   "execution_count": null,
   "id": "6bf8d709",
   "metadata": {},
   "outputs": [],
   "source": [
    "plt.figure(figsize=[5,4])\n",
    "\n",
    "filename = \"md_energy.xvg\"\n",
    "x,y = load_xvg_file(filename)\n",
    "plt.plot(x,y,lw=1.5)\n",
    "plt.plot(x,gaussian_filter(y,sigma=20),lw=1.5)\n",
    "plt.ylabel('Energy (kJ/mol)')\n",
    "plt.xlabel('time (ps)')"
   ]
  },
  {
   "cell_type": "code",
   "execution_count": null,
   "id": "6b275259",
   "metadata": {
    "scrolled": false
   },
   "outputs": [],
   "source": [
    "plt.figure(figsize=[5,4])\n",
    "\n",
    "#filename = \"saxs.xvg\"\n",
    "#x,y = load_xvg_file(filename)\n",
    "#plt.plot(x,y/max(y),lw=1.5)\n",
    "\n",
    "filename = \"saxs2.xvg\"\n",
    "x,y = load_xvg_file(filename)\n",
    "plt.plot(x[1:],y[1:]/max(y),'o-',lw=1.5)\n",
    "plt.yscale(\"log\")\n",
    "plt.xscale(\"log\")\n",
    "plt.ylabel('I(q)')\n",
    "plt.xlabel('q (nm^-1)')\n",
    "plt.grid()\n",
    "plt.xlim([0.5,70])\n",
    "plt.title('23% glycerol')\n",
    "plt.savefig(\"/Users/fivos/Desktop/fig.png\")"
   ]
  },
  {
   "cell_type": "code",
   "execution_count": null,
   "id": "c2575edb",
   "metadata": {},
   "outputs": [],
   "source": [
    "plt.figure(figsize=[5,4])\n",
    "\n",
    "#filename = \"saxs.xvg\"\n",
    "#x,y = load_xvg_file(filename)\n",
    "#plt.plot(x,y/max(y),lw=1.5)\n",
    "\n",
    "filename = \"rdf.xvg\"\n",
    "x,y = load_xvg_file(filename)\n",
    "#plt.plot(x,y,lw=1.5)\n",
    "\n",
    "filename = \"rdf_com.xvg\"\n",
    "x,y = load_xvg_file(filename)\n",
    "plt.plot(x,y,'o',lw=1.5)\n",
    "popt,xc,curve,perr = fit(gaussian,x,y)\n",
    "plt.plot(xc,curve,lw=1.5)\n",
    "\n",
    "plt.ylabel('g(r)')\n",
    "plt.xlabel('r (nm)')\n",
    "plt.grid()\n",
    "#plt.title('23% glycerol')\n",
    "#plt.yscale(\"log\")\n",
    "#plt.savefig(\"/Users/fivos/Desktop/fig.png\")\n",
    "plt.show()"
   ]
  },
  {
   "cell_type": "code",
   "execution_count": null,
   "id": "267d9caf",
   "metadata": {},
   "outputs": [],
   "source": [
    "plt.figure(figsize=[5,4])\n",
    "\n",
    "y_fft = np.fft.fftshift(np.abs(np.fft.fft(y))) / np.sqrt(len(y))\n",
    "plt.plot(2*np.pi/xc, y_fft)\n",
    "\n",
    "y_fft_curve = np.fft.fftshift(np.abs(np.fft.fft(curve))) / np.sqrt(len(curve))\n",
    "#plt.plot(2*np.pi/xc, y_fft_curve)\n",
    "plt.xlim(0.5,4)\n",
    "\n",
    "plt.show()"
   ]
  },
  {
   "cell_type": "code",
   "execution_count": null,
   "id": "4363b9e5",
   "metadata": {},
   "outputs": [],
   "source": [
    "\n",
    "plt.figure(figsize=[5,4])\n",
    "\n",
    "#filename = \"saxs.xvg\"\n",
    "#x,y = load_xvg_file(filename)\n",
    "#plt.plot(x,y/max(y),lw=1.5)\n",
    "\n",
    "filename = \"dist_com.xvg\"\n",
    "data = np.array(load_xvg_file(filename))\n",
    "print(data[1])\n",
    "plt.plot(x/1e3,y,lw=1.5)\n",
    "plt.plot(x/1e3,gaussian_filter(y,sigma=20),lw=1.5)\n",
    "print(y)\n",
    "plt.ylabel('average COM distance (nm)')\n",
    "plt.xlabel('t (ns)')\n",
    "plt.grid()\n",
    "#plt.title('23% glycerol')\n",
    "#plt.yscale(\"log\")\n",
    "#plt.savefig(\"/Users/fivos/Desktop/fig.png\")\n",
    "plt.show()\n"
   ]
  },
  {
   "cell_type": "code",
   "execution_count": null,
   "id": "04fd1545",
   "metadata": {},
   "outputs": [],
   "source": []
  }
 ],
 "metadata": {
  "kernelspec": {
   "display_name": "Python 3.6.8 ('env': venv)",
   "language": "python",
   "name": "python3"
  },
  "language_info": {
   "codemirror_mode": {
    "name": "ipython",
    "version": 3
   },
   "file_extension": ".py",
   "mimetype": "text/x-python",
   "name": "python",
   "nbconvert_exporter": "python",
   "pygments_lexer": "ipython3",
   "version": "3.6.8"
  },
  "vscode": {
   "interpreter": {
    "hash": "c6a638a4c9a73004f7b3ed3d72e7e4721c5dcda577c0ba4075e429422b5039b0"
   }
  }
 },
 "nbformat": 4,
 "nbformat_minor": 5
}
